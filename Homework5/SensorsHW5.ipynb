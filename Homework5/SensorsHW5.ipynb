{
  "nbformat": 4,
  "nbformat_minor": 0,
  "metadata": {
    "colab": {
      "provenance": []
    },
    "kernelspec": {
      "name": "python3",
      "display_name": "Python 3"
    },
    "language_info": {
      "name": "python"
    }
  },
  "cells": [
    {
      "cell_type": "markdown",
      "source": [
        "Artur Eremov B20-RO-01\n",
        "\n",
        "a.eremov@innopolis.university\n",
        "\n",
        "GitHub link(there is just the same work): https://github.com/ipipos56/SensorsAndSensingS23/tree/main/Homework5"
      ],
      "metadata": {
        "id": "sYjdg53wzIyR"
      }
    },
    {
      "cell_type": "markdown",
      "source": [
        "# Home assignment 5(a):"
      ],
      "metadata": {
        "id": "Gcle3wujzEfA"
      }
    },
    {
      "cell_type": "markdown",
      "source": [
        "This script generates a noisy dataset with a line, adds outliers to the dataset, and then uses the RANSAC algorithm to detect the line parameters. Finally, it visualizes the original dataset, the RANSAC-based line detection with inliers and outliers highlighted in different colors."
      ],
      "metadata": {
        "id": "ikWlgPjIy_ah"
      }
    },
    {
      "cell_type": "code",
      "execution_count": 2,
      "metadata": {
        "colab": {
          "base_uri": "https://localhost:8080/",
          "height": 590
        },
        "id": "6ZT6Sdonxv0l",
        "outputId": "e5dacd56-f63b-4b3d-d92a-f17a0e811c7f"
      },
      "outputs": [
        {
          "output_type": "display_data",
          "data": {
            "text/plain": [
              "<Figure size 432x288 with 1 Axes>"
            ],
            "image/png": "[encoded data removed]"
          },
          "metadata": {
            "needs_background": "light"
          }
        },
        {
          "output_type": "stream",
          "name": "stdout",
          "text": [
            "a=2.9306069295914035 b = 1.8191611583622556\n"
          ]
        },
        {
          "output_type": "display_data",
          "data": {
            "text/plain": [
              "<Figure size 432x288 with 1 Axes>"
            ],
            "image/png": "[encoded data removed]"
          },
          "metadata": {
            "needs_background": "light"
          }
        }
      ],
      "source": [
        "import numpy as np\n",
        "import matplotlib.pyplot as plt\n",
        "\n",
        "# Generate dataset with a noisy line\n",
        "x = np.arange(0, 10, 0.1)\n",
        "y = 3 * x + 2 + np.random.normal(0, 1, len(x))\n",
        "\n",
        "# Add outliers to the dataset\n",
        "outliers_idx = np.random.randint(0, len(x), size=10)\n",
        "y[outliers_idx] += np.random.normal(0, 10, size=10)\n",
        "\n",
        "# Visualize the dataset\n",
        "plt.scatter(x, y)\n",
        "plt.xlabel('x')\n",
        "plt.ylabel('y')\n",
        "plt.title('Noisy Dataset')\n",
        "plt.show()\n",
        "\n",
        "# Implement RANSAC algorithm to detect line parameters\n",
        "n_iterations = 100\n",
        "sample_size = 2\n",
        "inlier_threshold = 1\n",
        "best_inliers = None\n",
        "best_line = None\n",
        "\n",
        "for i in range(n_iterations):\n",
        "    # Randomly select sample points\n",
        "    sample_idx = np.random.choice(len(x), size=sample_size, replace=False)\n",
        "    sample_x, sample_y = x[sample_idx], y[sample_idx]\n",
        "\n",
        "    # Fit line to the sample points\n",
        "    line_params = np.polyfit(sample_x, sample_y, deg=1)\n",
        "\n",
        "    # Calculate distance from all points to the line\n",
        "    distances = np.abs(y - (line_params[0] * x + line_params[1]))\n",
        "\n",
        "    # Identify inliers (points within inlier_threshold distance from the line)\n",
        "    inliers = distances < inlier_threshold\n",
        "\n",
        "    # If current iteration has more inliers than previous best, update best inliers and line parameters\n",
        "    if best_inliers is None or np.sum(inliers) > np.sum(best_inliers):\n",
        "        best_inliers = inliers\n",
        "        best_line = line_params\n",
        "\n",
        "# Visualize the RANSAC-based line detection\n",
        "plt.scatter(x[best_inliers], y[best_inliers], color='green', label='inliers')\n",
        "plt.scatter(x[~best_inliers], y[~best_inliers], color='red', label='outliers')\n",
        "plt.plot(x, best_line[0] * x + best_line[1], color='blue', label='detected line')\n",
        "print(f'a={best_line[0]} b = {best_line[1]}')\n",
        "plt.legend()\n",
        "plt.xlabel('x')\n",
        "plt.ylabel('y')\n",
        "plt.title('RANSAC-based Line Detection')\n",
        "plt.show()\n",
        "\n"
      ]
    },
    {
      "cell_type": "markdown",
      "source": [
        "# Home assignment 5(b):"
      ],
      "metadata": {
        "id": "wFTvXdrd0abD"
      }
    },
    {
      "cell_type": "markdown",
      "source": [
        "    Load the 3D point cloud dataset using a suitable library such as Open3D or PyntCloud.\n",
        "\n",
        "    Remove the redundant 3D point clouds belonging to the environment by setting reasonable thresholds on minimal and maximal range.\n",
        "\n",
        "    Detect the floor plane using a RANSAC-based plane detection algorithm and remove the points belonging to the floor.\n",
        "\n",
        "    Identify the object by selecting a suitable segmentation algorithm such as Euclidean Clustering, DBSCAN, or MeanShift.\n",
        "\n",
        "    Mark the object in the 3D point cloud by changing the object's color.\n",
        "    \n",
        "    Estimate the distance to the object by finding the minimal depth measurement in the remaining point cloud."
      ],
      "metadata": {
        "id": "N-uSPP8o1Bnc"
      }
    },
    {
      "cell_type": "code",
      "source": [
        "import open3d as o3d\n",
        "\n",
        "# Load point cloud data\n",
        "pcd = o3d.io.read_point_cloud(\"pointcloud.pcd\")\n",
        "\n",
        "# Remove redundant points\n",
        "min_range = 0.5  # set the minimum range\n",
        "max_range = 5.0  # set the maximum range\n",
        "pcd = pcd.crop(o3d.geometry.AxisAlignedBoundingBox([min_range, min_range, min_range], [max_range, max_range, max_range]))\n",
        "\n",
        "# Detect the floor plane\n",
        "plane_model, inliers = pcd.segment_plane(distance_threshold=0.01, ransac_n=3, num_iterations=1000)\n",
        "outliers = pcd.select_by_index(inliers, invert=True)\n",
        "floor_points = pcd.select_by_index(inliers)\n",
        "\n",
        "# Remove the floor points\n",
        "pcd = outliers\n",
        "\n",
        "# Identify the object using Euclidean Clustering\n",
        "clustering = pcd.cluster_dbscan(eps=0.5, min_points=10)\n",
        "\n",
        "# Mark the object by changing its color\n",
        "colors = [[1, 0, 0] for i in range(len(clustering))]\n",
        "for i in range(len(clustering)):\n",
        "    for j in clustering[i]:\n",
        "        colors[j] = [0, 1, 0]\n",
        "pcd.colors = o3d.utility.Vector3dVector(colors)\n",
        "\n",
        "# Estimate the distance to the object (minimal depth)\n",
        "distances = pcd.compute_depth()\n",
        "min_depth = min(distances)\n",
        "\n",
        "print(\"Minimal depth to the object: \", min_depth)\n",
        "o3d.visualization.draw_geometries([pcd])\n"
      ],
      "metadata": {
        "id": "9p-gwK2X0_sd"
      },
      "execution_count": null,
      "outputs": []
    }
  ]
}